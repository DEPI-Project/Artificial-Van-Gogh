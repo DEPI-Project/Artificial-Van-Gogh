{
  "nbformat": 4,
  "nbformat_minor": 0,
  "metadata": {
    "colab": {
      "provenance": [],
      "gpuType": "T4"
    },
    "kernelspec": {
      "name": "python3",
      "display_name": "Python 3"
    },
    "language_info": {
      "name": "python"
    },
    "accelerator": "GPU"
  },
  "cells": [
    {
      "cell_type": "code",
      "source": [
        "!pip install Augmentor"
      ],
      "metadata": {
        "id": "ktin8AP_Vgyh",
        "colab": {
          "base_uri": "https://localhost:8080/"
        },
        "outputId": "9abeda63-c97d-40d7-e86a-5fd58fa9fb80"
      },
      "execution_count": 1,
      "outputs": [
        {
          "output_type": "stream",
          "name": "stdout",
          "text": [
            "Collecting Augmentor\n",
            "  Downloading Augmentor-0.2.12-py2.py3-none-any.whl.metadata (1.3 kB)\n",
            "Requirement already satisfied: Pillow>=5.2.0 in /usr/local/lib/python3.10/dist-packages (from Augmentor) (10.4.0)\n",
            "Requirement already satisfied: tqdm>=4.9.0 in /usr/local/lib/python3.10/dist-packages (from Augmentor) (4.66.5)\n",
            "Requirement already satisfied: numpy>=1.11.0 in /usr/local/lib/python3.10/dist-packages (from Augmentor) (1.26.4)\n",
            "Downloading Augmentor-0.2.12-py2.py3-none-any.whl (38 kB)\n",
            "Installing collected packages: Augmentor\n",
            "Successfully installed Augmentor-0.2.12\n"
          ]
        }
      ]
    },
    {
      "cell_type": "code",
      "source": [
        "!pip install keras --upgrade"
      ],
      "metadata": {
        "id": "PyfoxpM7XcNq",
        "outputId": "49917ea2-0ad6-4b8f-9068-15d45a73fe81",
        "colab": {
          "base_uri": "https://localhost:8080/"
        }
      },
      "execution_count": 2,
      "outputs": [
        {
          "output_type": "stream",
          "name": "stdout",
          "text": [
            "Requirement already satisfied: keras in /usr/local/lib/python3.10/dist-packages (3.4.1)\n",
            "Collecting keras\n",
            "  Downloading keras-3.5.0-py3-none-any.whl.metadata (5.8 kB)\n",
            "Requirement already satisfied: absl-py in /usr/local/lib/python3.10/dist-packages (from keras) (1.4.0)\n",
            "Requirement already satisfied: numpy in /usr/local/lib/python3.10/dist-packages (from keras) (1.26.4)\n",
            "Requirement already satisfied: rich in /usr/local/lib/python3.10/dist-packages (from keras) (13.8.1)\n",
            "Requirement already satisfied: namex in /usr/local/lib/python3.10/dist-packages (from keras) (0.0.8)\n",
            "Requirement already satisfied: h5py in /usr/local/lib/python3.10/dist-packages (from keras) (3.11.0)\n",
            "Requirement already satisfied: optree in /usr/local/lib/python3.10/dist-packages (from keras) (0.12.1)\n",
            "Requirement already satisfied: ml-dtypes in /usr/local/lib/python3.10/dist-packages (from keras) (0.4.1)\n",
            "Requirement already satisfied: packaging in /usr/local/lib/python3.10/dist-packages (from keras) (24.1)\n",
            "Requirement already satisfied: typing-extensions>=4.5.0 in /usr/local/lib/python3.10/dist-packages (from optree->keras) (4.12.2)\n",
            "Requirement already satisfied: markdown-it-py>=2.2.0 in /usr/local/lib/python3.10/dist-packages (from rich->keras) (3.0.0)\n",
            "Requirement already satisfied: pygments<3.0.0,>=2.13.0 in /usr/local/lib/python3.10/dist-packages (from rich->keras) (2.18.0)\n",
            "Requirement already satisfied: mdurl~=0.1 in /usr/local/lib/python3.10/dist-packages (from markdown-it-py>=2.2.0->rich->keras) (0.1.2)\n",
            "Downloading keras-3.5.0-py3-none-any.whl (1.1 MB)\n",
            "\u001b[2K   \u001b[90m━━━━━━━━━━━━━━━━━━━━━━━━━━━━━━━━━━━━━━━━\u001b[0m \u001b[32m1.1/1.1 MB\u001b[0m \u001b[31m31.4 MB/s\u001b[0m eta \u001b[36m0:00:00\u001b[0m\n",
            "\u001b[?25hInstalling collected packages: keras\n",
            "  Attempting uninstall: keras\n",
            "    Found existing installation: keras 3.4.1\n",
            "    Uninstalling keras-3.4.1:\n",
            "      Successfully uninstalled keras-3.4.1\n",
            "Successfully installed keras-3.5.0\n"
          ]
        }
      ]
    },
    {
      "cell_type": "code",
      "source": [
        "import os\n",
        "import zipfile\n",
        "import numpy as np\n",
        "from PIL import Image\n",
        "from tensorflow.keras.preprocessing.image import ImageDataGenerator\n",
        "\n",
        "# وظيفة لفك ضغط ملف ZIP\n",
        "def extract_zip(zip_path, extract_to):\n",
        "    with zipfile.ZipFile(zip_path, 'r') as zip_ref:\n",
        "        zip_ref.extractall(extract_to)\n",
        "    print(f\"تم فك ضغط الملف إلى: {extract_to}\")\n",
        "\n",
        "# وظيفة لزيادة البيانات\n",
        "def augment_images(input_folder, output_folder, num_augmented_images=4):\n",
        "    os.makedirs(output_folder, exist_ok=True)  # إنشاء المجلد إذا لم يكن موجودًا\n",
        "    datagen = ImageDataGenerator(rotation_range=30, width_shift_range=0.1,\n",
        "                                 height_shift_range=0.1, shear_range=0.2,\n",
        "                                 zoom_range=0.2, horizontal_flip=True,\n",
        "                                 fill_mode='nearest')\n",
        "\n",
        "    for filename in os.listdir(input_folder):\n",
        "        if filename.endswith(('.png', '.jpg', '.jpeg', '.gif', '.bmp')):  # تحقق من نوع الصورة\n",
        "            img_path = os.path.join(input_folder, filename)\n",
        "            img = Image.open(img_path)\n",
        "            img_array = np.array(img)\n",
        "            img_array = img_array.reshape((1,) + img_array.shape)  # إعادة تشكيل الصورة لتناسب البيانات\n",
        "\n",
        "            # زيادة البيانات\n",
        "            i = 0\n",
        "            for batch in datagen.flow(img_array, batch_size=1,\n",
        "                                       save_to_dir=output_folder,\n",
        "                                       save_prefix='aug', save_format='jpeg'):\n",
        "                i += 1\n",
        "                if i >= num_augmented_images:\n",
        "                    break  # إذا تم إنشاء العدد المطلوب من الصور\n",
        "\n",
        "# وظيفة لضغط المجلد\n",
        "def compress_folder(folder_path, output_filename):\n",
        "    with zipfile.ZipFile(output_filename + '.zip', 'w') as zipf:\n",
        "        for root, dirs, files in os.walk(folder_path):\n",
        "            for file in files:\n",
        "                zipf.write(os.path.join(root, file), os.path.relpath(os.path.join(root, file), folder_path))\n",
        "    print(f\"تم ضغط المجلد إلى: {output_filename}.zip\")\n",
        "\n",
        "\n"
      ],
      "metadata": {
        "id": "GeRkj83foXJs"
      },
      "execution_count": 3,
      "outputs": []
    },
    {
      "cell_type": "code",
      "source": [
        "# إعداد المسارات\n",
        "zip_file_path = '/content/resized_images.zip'  # المسار إلى ملف ZIP\n",
        "extracted_folder = '/content/extracted_images'  # المجلد لفك ضغط الصور\n",
        "\n"
      ],
      "metadata": {
        "id": "XiNTBfj16-xk"
      },
      "execution_count": 4,
      "outputs": []
    },
    {
      "cell_type": "code",
      "source": [
        "# فك ضغط الملف\n",
        "extract_zip(zip_file_path, extracted_folder)\n",
        "\n"
      ],
      "metadata": {
        "colab": {
          "base_uri": "https://localhost:8080/"
        },
        "id": "_1w9148h7BYx",
        "outputId": "a29ae239-feac-4d11-9b16-00874f9f49e9"
      },
      "execution_count": 5,
      "outputs": [
        {
          "output_type": "stream",
          "name": "stdout",
          "text": [
            "تم فك ضغط الملف إلى: /content/extracted_images\n"
          ]
        }
      ]
    },
    {
      "cell_type": "code",
      "source": [
        "augmented_folder = '/content/augmented_images'  # المجلد لحفظ الصور المعززة\n",
        "output_zip_file = '/content/augmented_images'  # اسم ملف ZIP الناتج\n",
        "\n",
        "\n",
        "# زيادة البيانات\n",
        "augment_images(extracted_folder, augmented_folder)\n",
        "\n",
        "# ضغط المجلد الجديد\n",
        "compress_folder(augmented_folder, output_zip_file)"
      ],
      "metadata": {
        "colab": {
          "base_uri": "https://localhost:8080/"
        },
        "id": "ElrcWHwG7FiZ",
        "outputId": "aa3fc88d-8fbf-4bad-b40d-5c7c679b84bb"
      },
      "execution_count": 6,
      "outputs": [
        {
          "output_type": "stream",
          "name": "stdout",
          "text": [
            "تم ضغط المجلد إلى: /content/augmented_images.zip\n"
          ]
        }
      ]
    },
    {
      "cell_type": "code",
      "source": [],
      "metadata": {
        "id": "CfFayWO57XYi"
      },
      "execution_count": null,
      "outputs": []
    }
  ]
}